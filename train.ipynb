{
 "cells": [
  {
   "cell_type": "code",
   "execution_count": 2,
   "id": "15c6f3c6",
   "metadata": {},
   "outputs": [],
   "source": [
    "import pandas as pd\n",
    "import numpy as np"
   ]
  },
  {
   "cell_type": "code",
   "execution_count": 3,
   "id": "eba2e05e",
   "metadata": {},
   "outputs": [],
   "source": [
    "data = pd.read_csv('arabic_dataset_classifiction.csv')"
   ]
  },
  {
   "cell_type": "code",
   "execution_count": 4,
   "id": "cbfd0806",
   "metadata": {},
   "outputs": [
    {
     "data": {
      "text/html": [
       "<div>\n",
       "<style scoped>\n",
       "    .dataframe tbody tr th:only-of-type {\n",
       "        vertical-align: middle;\n",
       "    }\n",
       "\n",
       "    .dataframe tbody tr th {\n",
       "        vertical-align: top;\n",
       "    }\n",
       "\n",
       "    .dataframe thead th {\n",
       "        text-align: right;\n",
       "    }\n",
       "</style>\n",
       "<table border=\"1\" class=\"dataframe\">\n",
       "  <thead>\n",
       "    <tr style=\"text-align: right;\">\n",
       "      <th></th>\n",
       "      <th>text</th>\n",
       "      <th>targe</th>\n",
       "    </tr>\n",
       "  </thead>\n",
       "  <tbody>\n",
       "    <tr>\n",
       "      <th>0</th>\n",
       "      <td>بين أستوديوهات ورزازات وصحراء مرزوكة وآثار ولي...</td>\n",
       "      <td>0</td>\n",
       "    </tr>\n",
       "    <tr>\n",
       "      <th>1</th>\n",
       "      <td>قررت النجمة الأمريكية أوبرا وينفري ألا يقتصر ع...</td>\n",
       "      <td>0</td>\n",
       "    </tr>\n",
       "    <tr>\n",
       "      <th>2</th>\n",
       "      <td>أخبارنا المغربية الوزاني تصوير الشملالي ألهب ا...</td>\n",
       "      <td>0</td>\n",
       "    </tr>\n",
       "    <tr>\n",
       "      <th>3</th>\n",
       "      <td>اخبارنا المغربية قال ابراهيم الراشدي محامي سعد...</td>\n",
       "      <td>0</td>\n",
       "    </tr>\n",
       "    <tr>\n",
       "      <th>4</th>\n",
       "      <td>تزال صناعة الجلود في المغرب تتبع الطريقة التقل...</td>\n",
       "      <td>0</td>\n",
       "    </tr>\n",
       "  </tbody>\n",
       "</table>\n",
       "</div>"
      ],
      "text/plain": [
       "                                                text  targe\n",
       "0  بين أستوديوهات ورزازات وصحراء مرزوكة وآثار ولي...      0\n",
       "1  قررت النجمة الأمريكية أوبرا وينفري ألا يقتصر ع...      0\n",
       "2  أخبارنا المغربية الوزاني تصوير الشملالي ألهب ا...      0\n",
       "3  اخبارنا المغربية قال ابراهيم الراشدي محامي سعد...      0\n",
       "4  تزال صناعة الجلود في المغرب تتبع الطريقة التقل...      0"
      ]
     },
     "execution_count": 4,
     "metadata": {},
     "output_type": "execute_result"
    }
   ],
   "source": [
    "data.head()"
   ]
  },
  {
   "cell_type": "code",
   "execution_count": 8,
   "id": "60edf0a1",
   "metadata": {},
   "outputs": [],
   "source": [
    "data.columns= [ 'text' , 'category']"
   ]
  },
  {
   "cell_type": "code",
   "execution_count": 9,
   "id": "c49f01e7",
   "metadata": {},
   "outputs": [
    {
     "name": "stdout",
     "output_type": "stream",
     "text": [
      "<class 'pandas.core.frame.DataFrame'>\n",
      "Int64Index: 108789 entries, 0 to 111727\n",
      "Data columns (total 2 columns):\n",
      " #   Column    Non-Null Count   Dtype \n",
      "---  ------    --------------   ----- \n",
      " 0   text      108789 non-null  object\n",
      " 1   category  108789 non-null  int64 \n",
      "dtypes: int64(1), object(1)\n",
      "memory usage: 2.5+ MB\n"
     ]
    }
   ],
   "source": [
    "data.info()"
   ]
  },
  {
   "cell_type": "code",
   "execution_count": 10,
   "id": "8a405c56",
   "metadata": {},
   "outputs": [],
   "source": [
    "data.dropna(inplace=True)"
   ]
  },
  {
   "cell_type": "code",
   "execution_count": 12,
   "id": "709cfc70",
   "metadata": {},
   "outputs": [
    {
     "data": {
      "text/plain": [
       "4    43675\n",
       "3    20485\n",
       "1    16728\n",
       "2    14165\n",
       "0    13736\n",
       "Name: category, dtype: int64"
      ]
     },
     "execution_count": 12,
     "metadata": {},
     "output_type": "execute_result"
    }
   ],
   "source": [
    "data['category'].value_counts()"
   ]
  },
  {
   "cell_type": "code",
   "execution_count": 13,
   "id": "514e6fb6",
   "metadata": {},
   "outputs": [],
   "source": [
    "from sklearn.feature_extraction.text import CountVectorizer"
   ]
  },
  {
   "cell_type": "code",
   "execution_count": 15,
   "id": "d5e57d0e",
   "metadata": {},
   "outputs": [],
   "source": [
    "vectorizer= CountVectorizer(encoding='utf8' , min_df=0.01 , max_df=0.95)\n"
   ]
  },
  {
   "cell_type": "code",
   "execution_count": 16,
   "id": "97dd598e",
   "metadata": {},
   "outputs": [
    {
     "data": {
      "text/plain": [
       "CountVectorizer(encoding='utf8', max_df=0.95, min_df=0.01)"
      ]
     },
     "execution_count": 16,
     "metadata": {},
     "output_type": "execute_result"
    }
   ],
   "source": [
    "vectorizer.fit(data['text'])"
   ]
  },
  {
   "cell_type": "code",
   "execution_count": 17,
   "id": "c704ecb0",
   "metadata": {},
   "outputs": [],
   "source": [
    "documemt_term_matrix =vectorizer.transform(data['text'])"
   ]
  },
  {
   "cell_type": "code",
   "execution_count": 18,
   "id": "f4d9ca48",
   "metadata": {},
   "outputs": [
    {
     "data": {
      "text/plain": [
       "(108789, 2971)"
      ]
     },
     "execution_count": 18,
     "metadata": {},
     "output_type": "execute_result"
    }
   ],
   "source": [
    "documemt_term_matrix.shape"
   ]
  },
  {
   "cell_type": "code",
   "execution_count": 19,
   "id": "788077dc",
   "metadata": {
    "collapsed": true
   },
   "outputs": [
    {
     "data": {
      "text/plain": [
       "['آخر',\n",
       " 'آخرون',\n",
       " 'آخرين',\n",
       " 'آسفي',\n",
       " 'آلاف',\n",
       " 'آليات',\n",
       " 'آيت',\n",
       " 'أبدى',\n",
       " 'أبرز',\n",
       " 'أبرزها',\n",
       " 'أبريل',\n",
       " 'أبطال',\n",
       " 'أبناء',\n",
       " 'أبو',\n",
       " 'أتمنى',\n",
       " 'أثار',\n",
       " 'أثارت',\n",
       " 'أثر',\n",
       " 'أثناء',\n",
       " 'أجرى',\n",
       " 'أجل',\n",
       " 'أجواء',\n",
       " 'أحد',\n",
       " 'أحداث',\n",
       " 'أحدهما',\n",
       " 'أحزاب',\n",
       " 'أحسن',\n",
       " 'أحمد',\n",
       " 'أخبار',\n",
       " 'أخبارنا',\n",
       " 'أخذ',\n",
       " 'أخرى',\n",
       " 'أخنوش',\n",
       " 'أخيرا',\n",
       " 'أداء',\n",
       " 'أدلى',\n",
       " 'أدى',\n",
       " 'أربع',\n",
       " 'أربعة',\n",
       " 'أرض',\n",
       " 'أرضية',\n",
       " 'أزمة',\n",
       " 'أزيد',\n",
       " 'أسابيع',\n",
       " 'أساس',\n",
       " 'أساسا',\n",
       " 'أساسيا',\n",
       " 'أساسية',\n",
       " 'أسباب',\n",
       " 'أسبوع']"
      ]
     },
     "execution_count": 19,
     "metadata": {},
     "output_type": "execute_result"
    }
   ],
   "source": [
    "vectorizer.get_feature_names()[:100]"
   ]
  },
  {
   "cell_type": "code",
   "execution_count": 20,
   "id": "0b21912f",
   "metadata": {},
   "outputs": [],
   "source": [
    "X = documemt_term_matrix\n",
    "y= data['category']"
   ]
  },
  {
   "cell_type": "code",
   "execution_count": 21,
   "id": "e20f0216",
   "metadata": {},
   "outputs": [],
   "source": [
    "from sklearn.model_selection import train_test_split"
   ]
  },
  {
   "cell_type": "code",
   "execution_count": 26,
   "id": "331230b2",
   "metadata": {},
   "outputs": [],
   "source": [
    "X_train ,X_test ,y_train ,y_test =train_test_split(X,  y , test_size=0.3)"
   ]
  },
  {
   "cell_type": "code",
   "execution_count": 27,
   "id": "6b5495e1",
   "metadata": {},
   "outputs": [],
   "source": [
    "from sklearn.linear_model import LogisticRegression"
   ]
  },
  {
   "cell_type": "code",
   "execution_count": 28,
   "id": "cb2cb69f",
   "metadata": {},
   "outputs": [],
   "source": [
    "model = LogisticRegression()"
   ]
  },
  {
   "cell_type": "code",
   "execution_count": 29,
   "id": "a74bbfdf",
   "metadata": {},
   "outputs": [
    {
     "name": "stderr",
     "output_type": "stream",
     "text": [
      "C:\\Users\\KRM0201517\\Anaconda3\\lib\\site-packages\\sklearn\\linear_model\\_logistic.py:763: ConvergenceWarning: lbfgs failed to converge (status=1):\n",
      "STOP: TOTAL NO. of ITERATIONS REACHED LIMIT.\n",
      "\n",
      "Increase the number of iterations (max_iter) or scale the data as shown in:\n",
      "    https://scikit-learn.org/stable/modules/preprocessing.html\n",
      "Please also refer to the documentation for alternative solver options:\n",
      "    https://scikit-learn.org/stable/modules/linear_model.html#logistic-regression\n",
      "  n_iter_i = _check_optimize_result(\n"
     ]
    },
    {
     "data": {
      "text/plain": [
       "LogisticRegression()"
      ]
     },
     "execution_count": 29,
     "metadata": {},
     "output_type": "execute_result"
    }
   ],
   "source": [
    "model.fit(X_train , y_train)"
   ]
  },
  {
   "cell_type": "code",
   "execution_count": 31,
   "id": "e2b85046",
   "metadata": {},
   "outputs": [
    {
     "data": {
      "text/plain": [
       "0.9319790421913778"
      ]
     },
     "execution_count": 31,
     "metadata": {},
     "output_type": "execute_result"
    }
   ],
   "source": [
    "model.score(X_test , y_test) "
   ]
  },
  {
   "cell_type": "code",
   "execution_count": null,
   "id": "d057edd0",
   "metadata": {},
   "outputs": [],
   "source": []
  }
 ],
 "metadata": {
  "kernelspec": {
   "display_name": "Python 3 (ipykernel)",
   "language": "python",
   "name": "python3"
  },
  "language_info": {
   "codemirror_mode": {
    "name": "ipython",
    "version": 3
   },
   "file_extension": ".py",
   "mimetype": "text/x-python",
   "name": "python",
   "nbconvert_exporter": "python",
   "pygments_lexer": "ipython3",
   "version": "3.9.7"
  }
 },
 "nbformat": 4,
 "nbformat_minor": 5
}
